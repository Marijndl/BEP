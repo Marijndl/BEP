{
 "cells": [
  {
   "cell_type": "code",
   "execution_count": 3,
   "metadata": {
    "pycharm": {
     "is_executing": true
    }
   },
   "outputs": [],
   "source": [
    "from Helmholtz_recon import *\n",
    "import scipy.io\n",
    "import numpy as np\n",
    "import matplotlib.pyplot as plt\n",
    "from scipy.ndimage import gaussian_filter\n",
    "import cv2\n",
    "from scipy import ndimage\n",
    "import os\n"
   ]
  },
  {
   "cell_type": "code",
   "execution_count": 4,
   "metadata": {},
   "outputs": [
    {
     "data": {
      "text/plain": [
       "(112, 112, 36)"
      ]
     },
     "execution_count": 4,
     "metadata": {},
     "output_type": "execute_result"
    }
   ],
   "source": [
    "# MRI scan data \n",
    "path_phase_A = 'C:\\\\Users\\\\20203226\\\\Documents\\\\GitHub\\\\BEP\\\\MRI results\\\\1_SE_tra_A.mat'\n",
    "ph_b_A = scipy.io.loadmat(path_phase_A)['SE']\n",
    "path_phase_P = 'C:\\\\Users\\\\20203226\\\\Documents\\\\GitHub\\\\BEP\\\\MRI results\\\\1_SE_tra_P.mat'\n",
    "ph_b_P = scipy.io.loadmat(path_phase_P)['SE']\n",
    "\n",
    "ph_b_P = ndimage.zoom(ph_b_P, (1,1,1.2), order=1)\n",
    "\n",
    "ph_b = (np.angle(ph_b_A) + np.angle(ph_b_P)) / 2\n",
    "ph_b.shape"
   ]
  },
  {
   "cell_type": "code",
   "execution_count": 12,
   "metadata": {},
   "outputs": [],
   "source": [
    "# b1p = b1p * np.exp(1j*ph_b)\n",
    "# b1p = b1p[:,:,80]\n",
    "\n",
    "# sig_HH = Helmholtz(b1p, ks=7)\n",
    "sample = 1\n",
    "new_dir = path = os.path.join('C:\\\\Users\\\\20203226\\\\Documents\\\\GitHub\\\\BEP\\\\MRI results\\\\masks\\\\Round_1_SE\\\\', 'Sample_{}'.format(sample))\n",
    "os.mkdir(new_dir)\n",
    "\n",
    "for slice in range(4,11):\n",
    "\n",
    "    sig_HH = Helmholtz_ph(ph_b[:,:,slice], voxs=2e-3)\n",
    "    sig_b = smooth_HH(sig_HH, 1)\n",
    "\n",
    "    get_ipython().run_line_magic('matplotlib', 'qt')\n",
    "\n",
    "    #set up the overarching window\n",
    "    fig, axes = plt.subplots(1,1)\n",
    "    fig.figsize = [16,16]\n",
    "    \n",
    "    figManager = plt.get_current_fig_manager()\n",
    "    figManager.window.showMaximized()\n",
    "\n",
    "    #plot the images\n",
    "    axes.imshow(sig_b, vmin=0, vmax=6)\n",
    "    axes.set_title(\"Phase image smoothed\")\n",
    "\n",
    "    #accumulate points\n",
    "    points = plt.ginput(n=-1, timeout=30)\n",
    "    plt.close(fig)\n",
    "\n",
    "    #restore to inline figure placement\n",
    "    get_ipython().run_line_magic('matplotlib', 'inline')\n",
    "    \n",
    "    mask = np.zeros(sig_b.shape, dtype=\"uint8\")\n",
    "    \n",
    "    if len(points)>0:\n",
    "        middle_x = (int(points[0][0]) + int(points[1][0]))// 2\n",
    "        middle_y = (int(points[0][1]) + int(points[1][1]))// 2\n",
    "        radius = int(np.sqrt(((points[0][0]- points[1][0])**2) + ((points[0][1]- points[1][1])**2)) / 2)\n",
    "        cv2.circle(mask, (middle_x, middle_y), radius, 255, -1)\n",
    "\n",
    "\n",
    "    cv2.imwrite('C:\\\\Users\\\\20203226\\\\Documents\\\\GitHub\\\\BEP\\\\MRI results\\\\masks\\\\Round_1_SE\\\\Sample_{}\\\\'.format(sample) + '{}.png'.format(slice), mask)\n",
    "    \n",
    "    \n"
   ]
  }
 ],
 "metadata": {
  "kernelspec": {
   "display_name": "DL_env",
   "language": "python",
   "name": "python3"
  },
  "language_info": {
   "codemirror_mode": {
    "name": "ipython",
    "version": 3
   },
   "file_extension": ".py",
   "mimetype": "text/x-python",
   "name": "python",
   "nbconvert_exporter": "python",
   "pygments_lexer": "ipython3",
   "version": "3.9.13"
  },
  "orig_nbformat": 4
 },
 "nbformat": 4,
 "nbformat_minor": 2
}
