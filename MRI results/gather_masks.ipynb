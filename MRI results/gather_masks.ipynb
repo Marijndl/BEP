{
 "cells": [
  {
   "cell_type": "code",
   "execution_count": 1,
   "metadata": {
    "pycharm": {
     "is_executing": true
    }
   },
   "outputs": [],
   "source": [
    "from Helmholtz_recon import *\n",
    "import scipy.io\n",
    "import numpy as np\n",
    "import matplotlib.pyplot as plt\n",
    "from scipy.ndimage import gaussian_filter\n",
    "import cv2\n",
    "from scipy import ndimage\n",
    "import os\n",
    "import scipy\n",
    "import pandas as pd\n"
   ]
  },
  {
   "cell_type": "code",
   "execution_count": 7,
   "metadata": {},
   "outputs": [],
   "source": [
    "# MRI scan data \n",
    "path = 'C:\\\\Users\\\\20203226\\\\Documents\\\\GitHub\\\\BEP\\\\MRI results\\\\2_TSE_tra_A.mat'\n",
    "ph_b = scipy.io.loadmat(path)['SE']"
   ]
  },
  {
   "cell_type": "code",
   "execution_count": 13,
   "metadata": {},
   "outputs": [],
   "source": [
    "# b1p = b1p * np.exp(1j*ph_b)\n",
    "# b1p = b1p[:,:,80]\n",
    "\n",
    "# sig_HH = Helmholtz(b1p, ks=7)\n",
    "sample = 99\n",
    "new_dir = path = os.path.join('C:\\\\Users\\\\20203226\\\\Documents\\\\GitHub\\\\BEP\\\\MRI results\\\\masks\\\\Round_2_TSE\\\\', 'Sample_{}'.format(sample))\n",
    "os.mkdir(new_dir)\n",
    "\n",
    "for slice in range(1,4):\n",
    "\n",
    "    sig_HH = Helmholtz_ph(np.angle(ph_b[:,:,slice]))\n",
    "    sig_b = smooth_HH(sig_HH, 3)\n",
    "\n",
    "    get_ipython().run_line_magic('matplotlib', 'qt')\n",
    "\n",
    "    #set up the overarching window\n",
    "    fig, axes = plt.subplots(1,1)\n",
    "    fig.figsize = [16,16]\n",
    "    \n",
    "    figManager = plt.get_current_fig_manager()\n",
    "    figManager.window.showMaximized()\n",
    "\n",
    "    #plot the images\n",
    "    axes.imshow(sig_b, vmin=0, vmax=6)\n",
    "    axes.set_title(\"Phase image smoothed\")\n",
    "\n",
    "    #accumulate points\n",
    "    points = plt.ginput(n=-1, timeout=30)\n",
    "    plt.close(fig)\n",
    "\n",
    "    #restore to inline figure placement\n",
    "    get_ipython().run_line_magic('matplotlib', 'inline')\n",
    "    \n",
    "    mask = np.zeros(sig_b.shape, dtype=\"uint8\")\n",
    "    \n",
    "    if len(points)>0:\n",
    "        middle_x = (int(points[0][0]) + int(points[1][0]))// 2\n",
    "        middle_y = (int(points[0][1]) + int(points[1][1]))// 2\n",
    "        radius = int(np.sqrt(((points[0][0]- points[1][0])**2) + ((points[0][1]- points[1][1])**2)) / 2)\n",
    "        cv2.circle(mask, (middle_x, middle_y), radius, 255, -1)\n",
    "\n",
    "    cv2.imwrite('C:\\\\Users\\\\20203226\\\\Documents\\\\GitHub\\\\BEP\\\\MRI results\\\\masks\\\\Round_2_TSE\\\\Sample_{}\\\\'.format(sample) + '{}.png'.format(slice), mask)\n",
    "    \n"
   ]
  }
 ],
 "metadata": {
  "kernelspec": {
   "display_name": "DL_env",
   "language": "python",
   "name": "python3"
  },
  "language_info": {
   "codemirror_mode": {
    "name": "ipython",
    "version": 3
   },
   "file_extension": ".py",
   "mimetype": "text/x-python",
   "name": "python",
   "nbconvert_exporter": "python",
   "pygments_lexer": "ipython3",
   "version": "3.9.13"
  },
  "orig_nbformat": 4
 },
 "nbformat": 4,
 "nbformat_minor": 2
}
